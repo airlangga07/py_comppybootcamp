{
 "cells": [
  {
   "cell_type": "markdown",
   "metadata": {},
   "source": [
    "# While Loops"
   ]
  },
  {
   "cell_type": "code",
   "execution_count": 1,
   "metadata": {},
   "outputs": [
    {
     "name": "stdout",
     "output_type": "stream",
     "text": [
      "x is currently:  0\n",
      "x is currently:  1\n",
      "x is currently:  2\n",
      "x is currently:  3\n",
      "x is currently:  4\n",
      "x is currently:  5\n",
      "x is currently:  6\n",
      "x is currently:  7\n",
      "x is currently:  8\n",
      "x is currently:  9\n"
     ]
    }
   ],
   "source": [
    "x = 0\n",
    "\n",
    "while x < 10:\n",
    "    print('x is currently: ', x)\n",
    "    x += 1"
   ]
  },
  {
   "cell_type": "code",
   "execution_count": 2,
   "metadata": {},
   "outputs": [
    {
     "name": "stdout",
     "output_type": "stream",
     "text": [
      "y is currently:  0\n",
      "y is currently:  1\n",
      "y is currently:  2\n",
      "y is currently:  3\n",
      "y is currently:  4\n",
      "All Done!\n"
     ]
    }
   ],
   "source": [
    "y = 0\n",
    "\n",
    "while y < 5:\n",
    "    print('y is currently: ', y)\n",
    "    y += 1\n",
    "else:\n",
    "    print('All Done!')"
   ]
  },
  {
   "cell_type": "markdown",
   "metadata": {},
   "source": [
    "### Break, continue, and pass"
   ]
  },
  {
   "cell_type": "code",
   "execution_count": 10,
   "metadata": {},
   "outputs": [
    {
     "name": "stdout",
     "output_type": "stream",
     "text": [
      "z is currently:  0\n",
      "z is still less than 10, adding 1 to z\n",
      "continuing...\n",
      "z is currently:  1\n",
      "z is still less than 10, adding 1 to z\n",
      "continuing...\n",
      "z is currently:  2\n",
      "z is still less than 10, adding 1 to z\n",
      "x is equal to 3\n"
     ]
    }
   ],
   "source": [
    "z = 0\n",
    "    \n",
    "while z < 5:\n",
    "    print('z is currently: ', z)\n",
    "    print('z is still less than 10, adding 1 to z')\n",
    "    z += 1\n",
    "    \n",
    "    if z == 3:\n",
    "        print('x is equal to 3')\n",
    "        break\n",
    "    else:\n",
    "        print('continuing...')\n",
    "        continue"
   ]
  },
  {
   "cell_type": "code",
   "execution_count": null,
   "metadata": {},
   "outputs": [],
   "source": []
  }
 ],
 "metadata": {
  "kernelspec": {
   "display_name": "Python 3",
   "language": "python",
   "name": "python3"
  },
  "language_info": {
   "codemirror_mode": {
    "name": "ipython",
    "version": 3
   },
   "file_extension": ".py",
   "mimetype": "text/x-python",
   "name": "python",
   "nbconvert_exporter": "python",
   "pygments_lexer": "ipython3",
   "version": "3.6.0"
  }
 },
 "nbformat": 4,
 "nbformat_minor": 2
}
