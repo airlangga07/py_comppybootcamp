{
 "cells": [
  {
   "cell_type": "markdown",
   "metadata": {},
   "source": [
    "# Errors and Exception Handling"
   ]
  },
  {
   "cell_type": "code",
   "execution_count": 1,
   "metadata": {},
   "outputs": [
    {
     "ename": "TypeError",
     "evalue": "unsupported operand type(s) for +: 'int' and 'str'",
     "output_type": "error",
     "traceback": [
      "\u001b[0;31m---------------------------------------------------------------------------\u001b[0m",
      "\u001b[0;31mTypeError\u001b[0m                                 Traceback (most recent call last)",
      "\u001b[0;32m<ipython-input-1-d1ffbeee94c3>\u001b[0m in \u001b[0;36m<module>\u001b[0;34m()\u001b[0m\n\u001b[0;32m----> 1\u001b[0;31m \u001b[0;36m2\u001b[0m \u001b[0;34m+\u001b[0m \u001b[0;34m's'\u001b[0m\u001b[0;34m\u001b[0m\u001b[0m\n\u001b[0m",
      "\u001b[0;31mTypeError\u001b[0m: unsupported operand type(s) for +: 'int' and 'str'"
     ]
    }
   ],
   "source": [
    "2 + 's'"
   ]
  },
  {
   "cell_type": "code",
   "execution_count": 3,
   "metadata": {},
   "outputs": [
    {
     "name": "stdout",
     "output_type": "stream",
     "text": [
      "There was a type error!\n",
      "Finally this was printed\n"
     ]
    }
   ],
   "source": [
    "try:\n",
    "    2 + '3'\n",
    "except TypeError:\n",
    "    print('There was a type error!')\n",
    "finally: \n",
    "    print('Finally this was printed')"
   ]
  },
  {
   "cell_type": "code",
   "execution_count": 6,
   "metadata": {},
   "outputs": [
    {
     "name": "stdout",
     "output_type": "stream",
     "text": [
      "Error in writing to the file!\n",
      "continue to the next process..\n"
     ]
    }
   ],
   "source": [
    "try: \n",
    "    f = open('testfile.txt', 'r')\n",
    "    f.write('Test write this')\n",
    "except: \n",
    "    print('Error in writing to the file!')\n",
    "else: \n",
    "    print('File write was a success')\n",
    "finally: \n",
    "    print('continue to the next process..')"
   ]
  },
  {
   "cell_type": "code",
   "execution_count": 10,
   "metadata": {},
   "outputs": [
    {
     "name": "stdout",
     "output_type": "stream",
     "text": [
      "Please enter an integer: 5\n",
      "Wow ok! Thanks!\n",
      "5\n"
     ]
    }
   ],
   "source": [
    "def ask_int():\n",
    "    try: \n",
    "        val = int(input('Please enter an integer: '))\n",
    "    except:\n",
    "        print('Looks like you did not put an integer...')\n",
    "        val = int(input('Please try again. Please enter an integer: '))\n",
    "    finally: \n",
    "        print('Wow ok! Thanks!')\n",
    "        print(val)\n",
    "\n",
    "ask_int()"
   ]
  },
  {
   "cell_type": "code",
   "execution_count": 11,
   "metadata": {},
   "outputs": [],
   "source": [
    "def ask_int_v2():\n",
    "    while True: \n",
    "        try: \n",
    "            val = int(input('Please enter an integer: '))\n",
    "        except:\n",
    "            print('Looks like you did not put an integer...')\n",
    "            continue\n",
    "        else: \n",
    "            print('Ok! Thanks!')\n",
    "            break\n",
    "        finally: \n",
    "            print('See ya! Bye!')\n",
    "        \n",
    "        print(val)"
   ]
  },
  {
   "cell_type": "code",
   "execution_count": 12,
   "metadata": {},
   "outputs": [
    {
     "name": "stdout",
     "output_type": "stream",
     "text": [
      "Please enter an integer: adsfadf\n",
      "Looks like you did not put an integer...\n",
      "See ya! Bye!\n",
      "Please enter an integer: seriously?\n",
      "Looks like you did not put an integer...\n",
      "See ya! Bye!\n",
      "Please enter an integer: 1\n",
      "Ok! Thanks!\n",
      "See ya! Bye!\n"
     ]
    }
   ],
   "source": [
    "ask_int_v2()"
   ]
  },
  {
   "cell_type": "code",
   "execution_count": null,
   "metadata": {},
   "outputs": [],
   "source": []
  }
 ],
 "metadata": {
  "kernelspec": {
   "display_name": "Python 3",
   "language": "python",
   "name": "python3"
  },
  "language_info": {
   "codemirror_mode": {
    "name": "ipython",
    "version": 3
   },
   "file_extension": ".py",
   "mimetype": "text/x-python",
   "name": "python",
   "nbconvert_exporter": "python",
   "pygments_lexer": "ipython3",
   "version": "3.6.0"
  }
 },
 "nbformat": 4,
 "nbformat_minor": 2
}
