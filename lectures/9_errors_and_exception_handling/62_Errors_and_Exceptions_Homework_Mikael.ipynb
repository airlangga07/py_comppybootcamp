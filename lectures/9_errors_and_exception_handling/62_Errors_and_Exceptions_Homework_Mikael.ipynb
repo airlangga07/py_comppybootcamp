{
 "cells": [
  {
   "cell_type": "markdown",
   "metadata": {},
   "source": [
    "# Errors and Exceptions Homework - "
   ]
  },
  {
   "cell_type": "markdown",
   "metadata": {},
   "source": [
    "### Problem 1\n",
    "Handle the exception thrown by the code below by using try and except blocks."
   ]
  },
  {
   "cell_type": "code",
   "execution_count": 1,
   "metadata": {},
   "outputs": [
    {
     "name": "stdout",
     "output_type": "stream",
     "text": [
      "Whoa it seems its not an integer man...\n",
      "Whoa it seems its not an integer man...\n",
      "Whoa it seems its not an integer man...\n"
     ]
    }
   ],
   "source": [
    "for i in ['a','b','c']:\n",
    "    try: \n",
    "        print(i**2)\n",
    "    except TypeError: \n",
    "        print('Whoa it seems its not an integer man...')"
   ]
  },
  {
   "cell_type": "markdown",
   "metadata": {},
   "source": [
    "### Problem 2\n",
    "Handle the exception thrown by the code below by using **try** and **except** blocks. Then use a **finally** block to print 'All Done.'"
   ]
  },
  {
   "cell_type": "code",
   "execution_count": 2,
   "metadata": {},
   "outputs": [
    {
     "name": "stdout",
     "output_type": "stream",
     "text": [
      "Whoa! Wait we are going to infinity here. Imma stop.\n",
      "All Done\n"
     ]
    }
   ],
   "source": [
    "x = 5\n",
    "y = 0\n",
    "\n",
    "try: \n",
    "    z = x / y\n",
    "except ZeroDivisionError:\n",
    "    print('Whoa! Wait we are going to infinity here. Imma stop.')\n",
    "finally:\n",
    "    print('All Done')"
   ]
  },
  {
   "cell_type": "markdown",
   "metadata": {},
   "source": [
    "### Problem 3\n",
    "Write a function that asks for an integer and prints the square of it. Use a while loop with a try,except, else block to account for incorrect inputs."
   ]
  },
  {
   "cell_type": "code",
   "execution_count": 3,
   "metadata": {},
   "outputs": [],
   "source": [
    "def ask():\n",
    "    while True:\n",
    "        try: \n",
    "            square = int(input(\"Please enter an integer so I can double it: \"))\n",
    "        except:\n",
    "            print('An error occured! Please try again man!')\n",
    "            continue\n",
    "        else:\n",
    "            square *= square\n",
    "            print('Thank you, your number squared is: ', square)\n",
    "            break"
   ]
  },
  {
   "cell_type": "code",
   "execution_count": 5,
   "metadata": {},
   "outputs": [
    {
     "name": "stdout",
     "output_type": "stream",
     "text": [
      "Please enter an integer so I can double it: asdf\n",
      "An error occured! Please try again man!\n",
      "Please enter an integer so I can double it: asdf\n",
      "An error occured! Please try again man!\n",
      "Please enter an integer so I can double it: adf\n",
      "An error occured! Please try again man!\n",
      "Please enter an integer so I can double it: 6\n",
      "Thank you, your number squared is:  36\n"
     ]
    }
   ],
   "source": [
    "ask()"
   ]
  },
  {
   "cell_type": "markdown",
   "metadata": {},
   "source": [
    "#Great Job!"
   ]
  }
 ],
 "metadata": {
  "kernelspec": {
   "display_name": "Python 3",
   "language": "python",
   "name": "python3"
  },
  "language_info": {
   "codemirror_mode": {
    "name": "ipython",
    "version": 3
   },
   "file_extension": ".py",
   "mimetype": "text/x-python",
   "name": "python",
   "nbconvert_exporter": "python",
   "pygments_lexer": "ipython3",
   "version": "3.6.0"
  }
 },
 "nbformat": 4,
 "nbformat_minor": 1
}
